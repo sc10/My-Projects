{
  "nbformat": 4,
  "nbformat_minor": 0,
  "metadata": {
    "colab": {
      "name": "Stock_Price_analysis.ipynb",
      "provenance": [],
      "authorship_tag": "ABX9TyMOAcxgO32a3duIaT5Up9uE",
      "include_colab_link": true
    },
    "kernelspec": {
      "name": "python3",
      "display_name": "Python 3"
    },
    "language_info": {
      "name": "python"
    }
  },
  "cells": [
    {
      "cell_type": "markdown",
      "metadata": {
        "id": "view-in-github",
        "colab_type": "text"
      },
      "source": [
        "<a href=\"https://colab.research.google.com/github/sc10/My-Projects/blob/main/Stock_Price_analysis.ipynb\" target=\"_parent\"><img src=\"https://colab.research.google.com/assets/colab-badge.svg\" alt=\"Open In Colab\"/></a>"
      ]
    },
    {
      "cell_type": "code",
      "metadata": {
        "colab": {
          "base_uri": "https://localhost:8080/"
        },
        "id": "0Pts1vYfdQyV",
        "outputId": "fe9e1f52-1749-4ff3-dbe5-876b10a9c660"
      },
      "source": [
        "pip install yfinance\n"
      ],
      "execution_count": 1,
      "outputs": [
        {
          "output_type": "stream",
          "text": [
            "Collecting yfinance\n",
            "  Downloading yfinance-0.1.63.tar.gz (26 kB)\n",
            "Requirement already satisfied: pandas>=0.24 in /usr/local/lib/python3.7/dist-packages (from yfinance) (1.1.5)\n",
            "Requirement already satisfied: numpy>=1.15 in /usr/local/lib/python3.7/dist-packages (from yfinance) (1.19.5)\n",
            "Requirement already satisfied: requests>=2.20 in /usr/local/lib/python3.7/dist-packages (from yfinance) (2.23.0)\n",
            "Requirement already satisfied: multitasking>=0.0.7 in /usr/local/lib/python3.7/dist-packages (from yfinance) (0.0.9)\n",
            "Collecting lxml>=4.5.1\n",
            "  Downloading lxml-4.6.3-cp37-cp37m-manylinux2014_x86_64.whl (6.3 MB)\n",
            "\u001b[K     |████████████████████████████████| 6.3 MB 7.8 MB/s \n",
            "\u001b[?25hRequirement already satisfied: pytz>=2017.2 in /usr/local/lib/python3.7/dist-packages (from pandas>=0.24->yfinance) (2018.9)\n",
            "Requirement already satisfied: python-dateutil>=2.7.3 in /usr/local/lib/python3.7/dist-packages (from pandas>=0.24->yfinance) (2.8.1)\n",
            "Requirement already satisfied: six>=1.5 in /usr/local/lib/python3.7/dist-packages (from python-dateutil>=2.7.3->pandas>=0.24->yfinance) (1.15.0)\n",
            "Requirement already satisfied: idna<3,>=2.5 in /usr/local/lib/python3.7/dist-packages (from requests>=2.20->yfinance) (2.10)\n",
            "Requirement already satisfied: certifi>=2017.4.17 in /usr/local/lib/python3.7/dist-packages (from requests>=2.20->yfinance) (2021.5.30)\n",
            "Requirement already satisfied: chardet<4,>=3.0.2 in /usr/local/lib/python3.7/dist-packages (from requests>=2.20->yfinance) (3.0.4)\n",
            "Requirement already satisfied: urllib3!=1.25.0,!=1.25.1,<1.26,>=1.21.1 in /usr/local/lib/python3.7/dist-packages (from requests>=2.20->yfinance) (1.24.3)\n",
            "Building wheels for collected packages: yfinance\n",
            "  Building wheel for yfinance (setup.py) ... \u001b[?25l\u001b[?25hdone\n",
            "  Created wheel for yfinance: filename=yfinance-0.1.63-py2.py3-none-any.whl size=23919 sha256=8c5db02781db4ddfbd542315a49a4da0c1705fb46bed6a1222b3a153e4c18fbe\n",
            "  Stored in directory: /root/.cache/pip/wheels/fe/87/8b/7ec24486e001d3926537f5f7801f57a74d181be25b11157983\n",
            "Successfully built yfinance\n",
            "Installing collected packages: lxml, yfinance\n",
            "  Attempting uninstall: lxml\n",
            "    Found existing installation: lxml 4.2.6\n",
            "    Uninstalling lxml-4.2.6:\n",
            "      Successfully uninstalled lxml-4.2.6\n",
            "Successfully installed lxml-4.6.3 yfinance-0.1.63\n"
          ],
          "name": "stdout"
        }
      ]
    },
    {
      "cell_type": "code",
      "metadata": {
        "id": "LbCkAfkEdlOI"
      },
      "source": [
        "import pandas as pd\n",
        "import yfinance as yf\n",
        "import datetime \n",
        "import time\n",
        "import requests\n",
        "import io\n",
        "import numpy as np\n",
        "from sklearn.svm import SVR\n",
        "import matplotlib.pyplot as plt\n",
        "from pandas.plotting import scatter_matrix\n",
        "%matplotlib inline"
      ],
      "execution_count": 2,
      "outputs": []
    },
    {
      "cell_type": "code",
      "metadata": {
        "id": "zUaLmR2bedvq"
      },
      "source": [
        "from datetime import date\n",
        "end = date.today()\n",
        "start=end-datetime.timedelta(days=365)\n"
      ],
      "execution_count": 3,
      "outputs": []
    },
    {
      "cell_type": "code",
      "metadata": {
        "colab": {
          "base_uri": "https://localhost:8080/"
        },
        "id": "KxBAz-TKfQFu",
        "outputId": "f68a59a4-ee18-4267-b603-35ae4cdd14d4"
      },
      "source": [
        "stock_final=pd.DataFrame()\n",
        "code=input(\"Enter the code of stock you want to predict value of: \")\n",
        "stock = yf.download(code,start=start, end=end, progress=False)\n",
        "stock_final = stock_final.append(stock,sort=False)\n"
      ],
      "execution_count": 4,
      "outputs": [
        {
          "output_type": "stream",
          "text": [
            "Enter the code of stock you want to predict value of: tcs.ns\n"
          ],
          "name": "stdout"
        }
      ]
    },
    {
      "cell_type": "code",
      "metadata": {
        "colab": {
          "base_uri": "https://localhost:8080/",
          "height": 234
        },
        "id": "kTLrWNZ9jUE0",
        "outputId": "50ac8a93-594d-44d2-ea74-9e3da62b4e8c"
      },
      "source": [
        "stock_final.head()"
      ],
      "execution_count": 5,
      "outputs": [
        {
          "output_type": "execute_result",
          "data": {
            "text/html": [
              "<div>\n",
              "<style scoped>\n",
              "    .dataframe tbody tr th:only-of-type {\n",
              "        vertical-align: middle;\n",
              "    }\n",
              "\n",
              "    .dataframe tbody tr th {\n",
              "        vertical-align: top;\n",
              "    }\n",
              "\n",
              "    .dataframe thead th {\n",
              "        text-align: right;\n",
              "    }\n",
              "</style>\n",
              "<table border=\"1\" class=\"dataframe\">\n",
              "  <thead>\n",
              "    <tr style=\"text-align: right;\">\n",
              "      <th></th>\n",
              "      <th>Open</th>\n",
              "      <th>High</th>\n",
              "      <th>Low</th>\n",
              "      <th>Close</th>\n",
              "      <th>Adj Close</th>\n",
              "      <th>Volume</th>\n",
              "    </tr>\n",
              "    <tr>\n",
              "      <th>Date</th>\n",
              "      <th></th>\n",
              "      <th></th>\n",
              "      <th></th>\n",
              "      <th></th>\n",
              "      <th></th>\n",
              "      <th></th>\n",
              "    </tr>\n",
              "  </thead>\n",
              "  <tbody>\n",
              "    <tr>\n",
              "      <th>2020-07-24</th>\n",
              "      <td>2154.500000</td>\n",
              "      <td>2163.0</td>\n",
              "      <td>2125.100098</td>\n",
              "      <td>2157.399902</td>\n",
              "      <td>2129.076904</td>\n",
              "      <td>3665100</td>\n",
              "    </tr>\n",
              "    <tr>\n",
              "      <th>2020-07-27</th>\n",
              "      <td>2165.000000</td>\n",
              "      <td>2215.0</td>\n",
              "      <td>2163.500000</td>\n",
              "      <td>2206.800049</td>\n",
              "      <td>2177.828369</td>\n",
              "      <td>4248480</td>\n",
              "    </tr>\n",
              "    <tr>\n",
              "      <th>2020-07-28</th>\n",
              "      <td>2215.000000</td>\n",
              "      <td>2320.0</td>\n",
              "      <td>2215.000000</td>\n",
              "      <td>2309.750000</td>\n",
              "      <td>2279.427002</td>\n",
              "      <td>8092319</td>\n",
              "    </tr>\n",
              "    <tr>\n",
              "      <th>2020-07-29</th>\n",
              "      <td>2292.000000</td>\n",
              "      <td>2342.0</td>\n",
              "      <td>2246.050049</td>\n",
              "      <td>2276.050049</td>\n",
              "      <td>2246.169434</td>\n",
              "      <td>6090431</td>\n",
              "    </tr>\n",
              "    <tr>\n",
              "      <th>2020-07-30</th>\n",
              "      <td>2285.899902</td>\n",
              "      <td>2358.0</td>\n",
              "      <td>2272.250000</td>\n",
              "      <td>2279.500000</td>\n",
              "      <td>2249.573975</td>\n",
              "      <td>7098496</td>\n",
              "    </tr>\n",
              "  </tbody>\n",
              "</table>\n",
              "</div>"
            ],
            "text/plain": [
              "                   Open    High          Low        Close    Adj Close   Volume\n",
              "Date                                                                           \n",
              "2020-07-24  2154.500000  2163.0  2125.100098  2157.399902  2129.076904  3665100\n",
              "2020-07-27  2165.000000  2215.0  2163.500000  2206.800049  2177.828369  4248480\n",
              "2020-07-28  2215.000000  2320.0  2215.000000  2309.750000  2279.427002  8092319\n",
              "2020-07-29  2292.000000  2342.0  2246.050049  2276.050049  2246.169434  6090431\n",
              "2020-07-30  2285.899902  2358.0  2272.250000  2279.500000  2249.573975  7098496"
            ]
          },
          "metadata": {
            "tags": []
          },
          "execution_count": 5
        }
      ]
    },
    {
      "cell_type": "code",
      "metadata": {
        "id": "lSzHnlEmoI4f",
        "colab": {
          "base_uri": "https://localhost:8080/",
          "height": 441
        },
        "outputId": "45dc9786-9508-4584-fb7a-c7eddf1aa61f"
      },
      "source": [
        "stock_final['Open'].plot(label = code, figsize = (15,7))"
      ],
      "execution_count": 6,
      "outputs": [
        {
          "output_type": "execute_result",
          "data": {
            "text/plain": [
              "<matplotlib.axes._subplots.AxesSubplot at 0x7f08d1790a10>"
            ]
          },
          "metadata": {
            "tags": []
          },
          "execution_count": 6
        },
        {
          "output_type": "display_data",
          "data": {
            "image/png": "[encoded data removed]",
            "text/plain": [
              "<Figure size 1080x504 with 1 Axes>"
            ]
          },
          "metadata": {
            "tags": [],
            "needs_background": "light"
          }
        }
      ]
    },
    {
      "cell_type": "code",
      "metadata": {
        "colab": {
          "base_uri": "https://localhost:8080/",
          "height": 452
        },
        "id": "qnhLZgav5V-O",
        "outputId": "c7021628-38e9-4157-e7af-f469c9a8a32b"
      },
      "source": [
        "stock_final['Volume'].plot(label=code,figsize =(15,7))"
      ],
      "execution_count": 7,
      "outputs": [
        {
          "output_type": "execute_result",
          "data": {
            "text/plain": [
              "<matplotlib.axes._subplots.AxesSubplot at 0x7f08d123b450>"
            ]
          },
          "metadata": {
            "tags": []
          },
          "execution_count": 7
        },
        {
          "output_type": "display_data",
          "data": {
            "image/png": "[encoded data removed]",
            "text/plain": [
              "<Figure size 1080x504 with 1 Axes>"
            ]
          },
          "metadata": {
            "tags": [],
            "needs_background": "light"
          }
        }
      ]
    },
    {
      "cell_type": "code",
      "metadata": {
        "colab": {
          "base_uri": "https://localhost:8080/",
          "height": 452
        },
        "id": "sd2s-jO35_Uh",
        "outputId": "82c4c446-424c-4912-c60e-29053cf4f1a2"
      },
      "source": [
        "stock_final['Market_Cap']=stock_final['Open']*stock_final['Volume']\n",
        "stock_final['Market_Cap'].plot(label=code, figsize=(15,7))"
      ],
      "execution_count": 8,
      "outputs": [
        {
          "output_type": "execute_result",
          "data": {
            "text/plain": [
              "<matplotlib.axes._subplots.AxesSubplot at 0x7f08d11b9e10>"
            ]
          },
          "metadata": {
            "tags": []
          },
          "execution_count": 8
        },
        {
          "output_type": "display_data",
          "data": {
            "image/png": "[encoded data removed]",
            "text/plain": [
              "<Figure size 1080x504 with 1 Axes>"
            ]
          },
          "metadata": {
            "tags": [],
            "needs_background": "light"
          }
        }
      ]
    },
    {
      "cell_type": "code",
      "metadata": {
        "colab": {
          "base_uri": "https://localhost:8080/",
          "height": 441
        },
        "id": "D9OgYKkq60IV",
        "outputId": "717f057b-8ec7-4cd2-9542-6581852f245a"
      },
      "source": [
        "stock_final['MA50'] = stock_final['Open'].rolling(50).mean()\n",
        "stock_final['MA50'].plot(label=code, figsize=(15,7))"
      ],
      "execution_count": 9,
      "outputs": [
        {
          "output_type": "execute_result",
          "data": {
            "text/plain": [
              "<matplotlib.axes._subplots.AxesSubplot at 0x7f08d119bed0>"
            ]
          },
          "metadata": {
            "tags": []
          },
          "execution_count": 9
        },
        {
          "output_type": "display_data",
          "data": {
            "image/png": "[encoded data removed]",
            "text/plain": [
              "<Figure size 1080x504 with 1 Axes>"
            ]
          },
          "metadata": {
            "tags": [],
            "needs_background": "light"
          }
        }
      ]
    },
    {
      "cell_type": "code",
      "metadata": {
        "colab": {
          "base_uri": "https://localhost:8080/",
          "height": 445
        },
        "id": "y2jgD6lw7j0q",
        "outputId": "767cfc8c-0ac0-400d-8201-3f84f882d041"
      },
      "source": [
        "stock_final['returns'] = (stock_final['Close']/stock_final['Close'].shift(1)) -1\n",
        "stock_final['returns'].hist(bins = 100, label = code, alpha = 0.5, figsize = (15,7))"
      ],
      "execution_count": 10,
      "outputs": [
        {
          "output_type": "execute_result",
          "data": {
            "text/plain": [
              "<matplotlib.axes._subplots.AxesSubplot at 0x7f08d1109c50>"
            ]
          },
          "metadata": {
            "tags": []
          },
          "execution_count": 10
        },
        {
          "output_type": "display_data",
          "data": {
            "image/png": "[encoded data removed]",
            "text/plain": [
              "<Figure size 1080x504 with 1 Axes>"
            ]
          },
          "metadata": {
            "tags": [],
            "needs_background": "light"
          }
        }
      ]
    },
    {
      "cell_type": "code",
      "metadata": {
        "colab": {
          "base_uri": "https://localhost:8080/",
          "height": 447
        },
        "id": "L6oD3uAZ8GXw",
        "outputId": "c94a3384-779b-41b5-edde-01d524b0d480"
      },
      "source": [
        "stock_final"
      ],
      "execution_count": 11,
      "outputs": [
        {
          "output_type": "execute_result",
          "data": {
            "text/html": [
              "<div>\n",
              "<style scoped>\n",
              "    .dataframe tbody tr th:only-of-type {\n",
              "        vertical-align: middle;\n",
              "    }\n",
              "\n",
              "    .dataframe tbody tr th {\n",
              "        vertical-align: top;\n",
              "    }\n",
              "\n",
              "    .dataframe thead th {\n",
              "        text-align: right;\n",
              "    }\n",
              "</style>\n",
              "<table border=\"1\" class=\"dataframe\">\n",
              "  <thead>\n",
              "    <tr style=\"text-align: right;\">\n",
              "      <th></th>\n",
              "      <th>Open</th>\n",
              "      <th>High</th>\n",
              "      <th>Low</th>\n",
              "      <th>Close</th>\n",
              "      <th>Adj Close</th>\n",
              "      <th>Volume</th>\n",
              "      <th>Market_Cap</th>\n",
              "      <th>MA50</th>\n",
              "      <th>returns</th>\n",
              "    </tr>\n",
              "    <tr>\n",
              "      <th>Date</th>\n",
              "      <th></th>\n",
              "      <th></th>\n",
              "      <th></th>\n",
              "      <th></th>\n",
              "      <th></th>\n",
              "      <th></th>\n",
              "      <th></th>\n",
              "      <th></th>\n",
              "      <th></th>\n",
              "    </tr>\n",
              "  </thead>\n",
              "  <tbody>\n",
              "    <tr>\n",
              "      <th>2020-07-24</th>\n",
              "      <td>2154.500000</td>\n",
              "      <td>2163.000000</td>\n",
              "      <td>2125.100098</td>\n",
              "      <td>2157.399902</td>\n",
              "      <td>2129.076904</td>\n",
              "      <td>3665100</td>\n",
              "      <td>7.896458e+09</td>\n",
              "      <td>NaN</td>\n",
              "      <td>NaN</td>\n",
              "    </tr>\n",
              "    <tr>\n",
              "      <th>2020-07-27</th>\n",
              "      <td>2165.000000</td>\n",
              "      <td>2215.000000</td>\n",
              "      <td>2163.500000</td>\n",
              "      <td>2206.800049</td>\n",
              "      <td>2177.828369</td>\n",
              "      <td>4248480</td>\n",
              "      <td>9.197959e+09</td>\n",
              "      <td>NaN</td>\n",
              "      <td>0.022898</td>\n",
              "    </tr>\n",
              "    <tr>\n",
              "      <th>2020-07-28</th>\n",
              "      <td>2215.000000</td>\n",
              "      <td>2320.000000</td>\n",
              "      <td>2215.000000</td>\n",
              "      <td>2309.750000</td>\n",
              "      <td>2279.427002</td>\n",
              "      <td>8092319</td>\n",
              "      <td>1.792449e+10</td>\n",
              "      <td>NaN</td>\n",
              "      <td>0.046651</td>\n",
              "    </tr>\n",
              "    <tr>\n",
              "      <th>2020-07-29</th>\n",
              "      <td>2292.000000</td>\n",
              "      <td>2342.000000</td>\n",
              "      <td>2246.050049</td>\n",
              "      <td>2276.050049</td>\n",
              "      <td>2246.169434</td>\n",
              "      <td>6090431</td>\n",
              "      <td>1.395927e+10</td>\n",
              "      <td>NaN</td>\n",
              "      <td>-0.014590</td>\n",
              "    </tr>\n",
              "    <tr>\n",
              "      <th>2020-07-30</th>\n",
              "      <td>2285.899902</td>\n",
              "      <td>2358.000000</td>\n",
              "      <td>2272.250000</td>\n",
              "      <td>2279.500000</td>\n",
              "      <td>2249.573975</td>\n",
              "      <td>7098496</td>\n",
              "      <td>1.622645e+10</td>\n",
              "      <td>NaN</td>\n",
              "      <td>0.001516</td>\n",
              "    </tr>\n",
              "    <tr>\n",
              "      <th>...</th>\n",
              "      <td>...</td>\n",
              "      <td>...</td>\n",
              "      <td>...</td>\n",
              "      <td>...</td>\n",
              "      <td>...</td>\n",
              "      <td>...</td>\n",
              "      <td>...</td>\n",
              "      <td>...</td>\n",
              "      <td>...</td>\n",
              "    </tr>\n",
              "    <tr>\n",
              "      <th>2021-07-16</th>\n",
              "      <td>3213.000000</td>\n",
              "      <td>3219.850098</td>\n",
              "      <td>3192.000000</td>\n",
              "      <td>3194.800049</td>\n",
              "      <td>3194.800049</td>\n",
              "      <td>1256526</td>\n",
              "      <td>4.037218e+09</td>\n",
              "      <td>3213.778008</td>\n",
              "      <td>-0.002544</td>\n",
              "    </tr>\n",
              "    <tr>\n",
              "      <th>2021-07-19</th>\n",
              "      <td>3180.000000</td>\n",
              "      <td>3199.800049</td>\n",
              "      <td>3176.000000</td>\n",
              "      <td>3184.600098</td>\n",
              "      <td>3184.600098</td>\n",
              "      <td>1597058</td>\n",
              "      <td>5.078644e+09</td>\n",
              "      <td>3214.718008</td>\n",
              "      <td>-0.003193</td>\n",
              "    </tr>\n",
              "    <tr>\n",
              "      <th>2021-07-20</th>\n",
              "      <td>3184.600098</td>\n",
              "      <td>3215.000000</td>\n",
              "      <td>3156.149902</td>\n",
              "      <td>3205.800049</td>\n",
              "      <td>3205.800049</td>\n",
              "      <td>1811945</td>\n",
              "      <td>5.770320e+09</td>\n",
              "      <td>3215.491011</td>\n",
              "      <td>0.006657</td>\n",
              "    </tr>\n",
              "    <tr>\n",
              "      <th>2021-07-22</th>\n",
              "      <td>3190.000000</td>\n",
              "      <td>3224.949951</td>\n",
              "      <td>3190.000000</td>\n",
              "      <td>3216.350098</td>\n",
              "      <td>3216.350098</td>\n",
              "      <td>2859334</td>\n",
              "      <td>9.121275e+09</td>\n",
              "      <td>3216.791011</td>\n",
              "      <td>0.003291</td>\n",
              "    </tr>\n",
              "    <tr>\n",
              "      <th>2021-07-23</th>\n",
              "      <td>3230.000000</td>\n",
              "      <td>3241.550049</td>\n",
              "      <td>3206.649902</td>\n",
              "      <td>3212.850098</td>\n",
              "      <td>3212.850098</td>\n",
              "      <td>1776193</td>\n",
              "      <td>5.737103e+09</td>\n",
              "      <td>3218.991011</td>\n",
              "      <td>-0.001088</td>\n",
              "    </tr>\n",
              "  </tbody>\n",
              "</table>\n",
              "<p>249 rows × 9 columns</p>\n",
              "</div>"
            ],
            "text/plain": [
              "                   Open         High  ...         MA50   returns\n",
              "Date                                  ...                       \n",
              "2020-07-24  2154.500000  2163.000000  ...          NaN       NaN\n",
              "2020-07-27  2165.000000  2215.000000  ...          NaN  0.022898\n",
              "2020-07-28  2215.000000  2320.000000  ...          NaN  0.046651\n",
              "2020-07-29  2292.000000  2342.000000  ...          NaN -0.014590\n",
              "2020-07-30  2285.899902  2358.000000  ...          NaN  0.001516\n",
              "...                 ...          ...  ...          ...       ...\n",
              "2021-07-16  3213.000000  3219.850098  ...  3213.778008 -0.002544\n",
              "2021-07-19  3180.000000  3199.800049  ...  3214.718008 -0.003193\n",
              "2021-07-20  3184.600098  3215.000000  ...  3215.491011  0.006657\n",
              "2021-07-22  3190.000000  3224.949951  ...  3216.791011  0.003291\n",
              "2021-07-23  3230.000000  3241.550049  ...  3218.991011 -0.001088\n",
              "\n",
              "[249 rows x 9 columns]"
            ]
          },
          "metadata": {
            "tags": []
          },
          "execution_count": 11
        }
      ]
    },
    {
      "cell_type": "code",
      "metadata": {
        "id": "8-pqxLKY8Lvf"
      },
      "source": [
        "from sklearn.model_selection import train_test_split\n",
        "from sklearn.linear_model import LinearRegression\n",
        "from sklearn import metrics"
      ],
      "execution_count": 12,
      "outputs": []
    },
    {
      "cell_type": "code",
      "metadata": {
        "colab": {
          "base_uri": "https://localhost:8080/",
          "height": 234
        },
        "id": "Uqy_8EaWKl1m",
        "outputId": "b42f59a9-fecc-4d09-adec-3f1a19f0b822"
      },
      "source": [
        "stock_final.head()"
      ],
      "execution_count": 14,
      "outputs": [
        {
          "output_type": "execute_result",
          "data": {
            "text/html": [
              "<div>\n",
              "<style scoped>\n",
              "    .dataframe tbody tr th:only-of-type {\n",
              "        vertical-align: middle;\n",
              "    }\n",
              "\n",
              "    .dataframe tbody tr th {\n",
              "        vertical-align: top;\n",
              "    }\n",
              "\n",
              "    .dataframe thead th {\n",
              "        text-align: right;\n",
              "    }\n",
              "</style>\n",
              "<table border=\"1\" class=\"dataframe\">\n",
              "  <thead>\n",
              "    <tr style=\"text-align: right;\">\n",
              "      <th></th>\n",
              "      <th>Open</th>\n",
              "      <th>High</th>\n",
              "      <th>Low</th>\n",
              "      <th>Close</th>\n",
              "      <th>Adj Close</th>\n",
              "      <th>Volume</th>\n",
              "      <th>Market_Cap</th>\n",
              "      <th>MA50</th>\n",
              "      <th>returns</th>\n",
              "    </tr>\n",
              "    <tr>\n",
              "      <th>Date</th>\n",
              "      <th></th>\n",
              "      <th></th>\n",
              "      <th></th>\n",
              "      <th></th>\n",
              "      <th></th>\n",
              "      <th></th>\n",
              "      <th></th>\n",
              "      <th></th>\n",
              "      <th></th>\n",
              "    </tr>\n",
              "  </thead>\n",
              "  <tbody>\n",
              "    <tr>\n",
              "      <th>2020-07-24</th>\n",
              "      <td>2154.500000</td>\n",
              "      <td>2163.0</td>\n",
              "      <td>2125.100098</td>\n",
              "      <td>2157.399902</td>\n",
              "      <td>2129.076904</td>\n",
              "      <td>3665100</td>\n",
              "      <td>7.896458e+09</td>\n",
              "      <td>NaN</td>\n",
              "      <td>NaN</td>\n",
              "    </tr>\n",
              "    <tr>\n",
              "      <th>2020-07-27</th>\n",
              "      <td>2165.000000</td>\n",
              "      <td>2215.0</td>\n",
              "      <td>2163.500000</td>\n",
              "      <td>2206.800049</td>\n",
              "      <td>2177.828369</td>\n",
              "      <td>4248480</td>\n",
              "      <td>9.197959e+09</td>\n",
              "      <td>NaN</td>\n",
              "      <td>0.022898</td>\n",
              "    </tr>\n",
              "    <tr>\n",
              "      <th>2020-07-28</th>\n",
              "      <td>2215.000000</td>\n",
              "      <td>2320.0</td>\n",
              "      <td>2215.000000</td>\n",
              "      <td>2309.750000</td>\n",
              "      <td>2279.427002</td>\n",
              "      <td>8092319</td>\n",
              "      <td>1.792449e+10</td>\n",
              "      <td>NaN</td>\n",
              "      <td>0.046651</td>\n",
              "    </tr>\n",
              "    <tr>\n",
              "      <th>2020-07-29</th>\n",
              "      <td>2292.000000</td>\n",
              "      <td>2342.0</td>\n",
              "      <td>2246.050049</td>\n",
              "      <td>2276.050049</td>\n",
              "      <td>2246.169434</td>\n",
              "      <td>6090431</td>\n",
              "      <td>1.395927e+10</td>\n",
              "      <td>NaN</td>\n",
              "      <td>-0.014590</td>\n",
              "    </tr>\n",
              "    <tr>\n",
              "      <th>2020-07-30</th>\n",
              "      <td>2285.899902</td>\n",
              "      <td>2358.0</td>\n",
              "      <td>2272.250000</td>\n",
              "      <td>2279.500000</td>\n",
              "      <td>2249.573975</td>\n",
              "      <td>7098496</td>\n",
              "      <td>1.622645e+10</td>\n",
              "      <td>NaN</td>\n",
              "      <td>0.001516</td>\n",
              "    </tr>\n",
              "  </tbody>\n",
              "</table>\n",
              "</div>"
            ],
            "text/plain": [
              "                   Open    High          Low  ...    Market_Cap  MA50   returns\n",
              "Date                                          ...                              \n",
              "2020-07-24  2154.500000  2163.0  2125.100098  ...  7.896458e+09   NaN       NaN\n",
              "2020-07-27  2165.000000  2215.0  2163.500000  ...  9.197959e+09   NaN  0.022898\n",
              "2020-07-28  2215.000000  2320.0  2215.000000  ...  1.792449e+10   NaN  0.046651\n",
              "2020-07-29  2292.000000  2342.0  2246.050049  ...  1.395927e+10   NaN -0.014590\n",
              "2020-07-30  2285.899902  2358.0  2272.250000  ...  1.622645e+10   NaN  0.001516\n",
              "\n",
              "[5 rows x 9 columns]"
            ]
          },
          "metadata": {
            "tags": []
          },
          "execution_count": 14
        }
      ]
    },
    {
      "cell_type": "code",
      "metadata": {
        "id": "hyDYaJbrKvgw"
      },
      "source": [
        "x=stock_final[['Open','High','Low','Volume','Market_Cap']].values\n",
        "y=stock_final['Close'].values"
      ],
      "execution_count": 16,
      "outputs": []
    },
    {
      "cell_type": "code",
      "metadata": {
        "id": "yjXXxxKJLG7D"
      },
      "source": [
        "x_train,x_test,y_train,y_test=train_test_split(x,y,test_size=0.2,random_state=0)"
      ],
      "execution_count": 17,
      "outputs": []
    },
    {
      "cell_type": "code",
      "metadata": {
        "id": "Jhkfdp4rLZ5U"
      },
      "source": [
        "reg=LinearRegression()\n"
      ],
      "execution_count": 18,
      "outputs": []
    },
    {
      "cell_type": "code",
      "metadata": {
        "colab": {
          "base_uri": "https://localhost:8080/"
        },
        "id": "_t2xQdKBLjdO",
        "outputId": "bca9efd5-8dab-46b7-e7b0-a3f02a6c49b1"
      },
      "source": [
        "reg.fit(x_train,y_train)"
      ],
      "execution_count": 19,
      "outputs": [
        {
          "output_type": "execute_result",
          "data": {
            "text/plain": [
              "LinearRegression(copy_X=True, fit_intercept=True, n_jobs=None, normalize=False)"
            ]
          },
          "metadata": {
            "tags": []
          },
          "execution_count": 19
        }
      ]
    },
    {
      "cell_type": "code",
      "metadata": {
        "id": "KpfyaUXrLmAA"
      },
      "source": [
        "pred=reg.predict(x_test)"
      ],
      "execution_count": 21,
      "outputs": []
    },
    {
      "cell_type": "code",
      "metadata": {
        "id": "G4mKw76lMVtg"
      },
      "source": [
        " dframe=pd.DataFrame({\"Actual\": y_test.flatten(),\"Predicted\": pred.flatten()})"
      ],
      "execution_count": 22,
      "outputs": []
    },
    {
      "cell_type": "code",
      "metadata": {
        "colab": {
          "base_uri": "https://localhost:8080/",
          "height": 1000
        },
        "id": "sp9HB8lmMrI2",
        "outputId": "741c2627-9ecb-4a1f-a78e-e6adf4c3898f"
      },
      "source": [
        "dframe"
      ],
      "execution_count": 23,
      "outputs": [
        {
          "output_type": "execute_result",
          "data": {
            "text/html": [
              "<div>\n",
              "<style scoped>\n",
              "    .dataframe tbody tr th:only-of-type {\n",
              "        vertical-align: middle;\n",
              "    }\n",
              "\n",
              "    .dataframe tbody tr th {\n",
              "        vertical-align: top;\n",
              "    }\n",
              "\n",
              "    .dataframe thead th {\n",
              "        text-align: right;\n",
              "    }\n",
              "</style>\n",
              "<table border=\"1\" class=\"dataframe\">\n",
              "  <thead>\n",
              "    <tr style=\"text-align: right;\">\n",
              "      <th></th>\n",
              "      <th>Actual</th>\n",
              "      <th>Predicted</th>\n",
              "    </tr>\n",
              "  </thead>\n",
              "  <tbody>\n",
              "    <tr>\n",
              "      <th>0</th>\n",
              "      <td>3212.850098</td>\n",
              "      <td>3219.287520</td>\n",
              "    </tr>\n",
              "    <tr>\n",
              "      <th>1</th>\n",
              "      <td>3064.850098</td>\n",
              "      <td>3081.081777</td>\n",
              "    </tr>\n",
              "    <tr>\n",
              "      <th>2</th>\n",
              "      <td>2649.600098</td>\n",
              "      <td>2665.406677</td>\n",
              "    </tr>\n",
              "    <tr>\n",
              "      <th>3</th>\n",
              "      <td>2894.300049</td>\n",
              "      <td>2910.965291</td>\n",
              "    </tr>\n",
              "    <tr>\n",
              "      <th>4</th>\n",
              "      <td>3071.850098</td>\n",
              "      <td>3048.464397</td>\n",
              "    </tr>\n",
              "    <tr>\n",
              "      <th>5</th>\n",
              "      <td>2685.699951</td>\n",
              "      <td>2688.343167</td>\n",
              "    </tr>\n",
              "    <tr>\n",
              "      <th>6</th>\n",
              "      <td>2422.300049</td>\n",
              "      <td>2407.846473</td>\n",
              "    </tr>\n",
              "    <tr>\n",
              "      <th>7</th>\n",
              "      <td>3057.949951</td>\n",
              "      <td>3081.609615</td>\n",
              "    </tr>\n",
              "    <tr>\n",
              "      <th>8</th>\n",
              "      <td>3216.800049</td>\n",
              "      <td>3205.394448</td>\n",
              "    </tr>\n",
              "    <tr>\n",
              "      <th>9</th>\n",
              "      <td>3141.250000</td>\n",
              "      <td>3129.170622</td>\n",
              "    </tr>\n",
              "    <tr>\n",
              "      <th>10</th>\n",
              "      <td>2784.300049</td>\n",
              "      <td>2796.008719</td>\n",
              "    </tr>\n",
              "    <tr>\n",
              "      <th>11</th>\n",
              "      <td>3088.800049</td>\n",
              "      <td>3100.123499</td>\n",
              "    </tr>\n",
              "    <tr>\n",
              "      <th>12</th>\n",
              "      <td>2660.250000</td>\n",
              "      <td>2648.975649</td>\n",
              "    </tr>\n",
              "    <tr>\n",
              "      <th>13</th>\n",
              "      <td>3317.350098</td>\n",
              "      <td>3314.787161</td>\n",
              "    </tr>\n",
              "    <tr>\n",
              "      <th>14</th>\n",
              "      <td>3110.050049</td>\n",
              "      <td>3119.227778</td>\n",
              "    </tr>\n",
              "    <tr>\n",
              "      <th>15</th>\n",
              "      <td>3082.000000</td>\n",
              "      <td>3095.609264</td>\n",
              "    </tr>\n",
              "    <tr>\n",
              "      <th>16</th>\n",
              "      <td>2830.000000</td>\n",
              "      <td>2830.908612</td>\n",
              "    </tr>\n",
              "    <tr>\n",
              "      <th>17</th>\n",
              "      <td>3120.899902</td>\n",
              "      <td>3094.316678</td>\n",
              "    </tr>\n",
              "    <tr>\n",
              "      <th>18</th>\n",
              "      <td>3380.800049</td>\n",
              "      <td>3373.160228</td>\n",
              "    </tr>\n",
              "    <tr>\n",
              "      <th>19</th>\n",
              "      <td>2727.550049</td>\n",
              "      <td>2720.734564</td>\n",
              "    </tr>\n",
              "    <tr>\n",
              "      <th>20</th>\n",
              "      <td>3060.000000</td>\n",
              "      <td>3069.858647</td>\n",
              "    </tr>\n",
              "    <tr>\n",
              "      <th>21</th>\n",
              "      <td>3157.949951</td>\n",
              "      <td>3153.623837</td>\n",
              "    </tr>\n",
              "    <tr>\n",
              "      <th>22</th>\n",
              "      <td>3112.949951</td>\n",
              "      <td>3126.772765</td>\n",
              "    </tr>\n",
              "    <tr>\n",
              "      <th>23</th>\n",
              "      <td>2726.800049</td>\n",
              "      <td>2683.709785</td>\n",
              "    </tr>\n",
              "    <tr>\n",
              "      <th>24</th>\n",
              "      <td>2332.250000</td>\n",
              "      <td>2345.286976</td>\n",
              "    </tr>\n",
              "    <tr>\n",
              "      <th>25</th>\n",
              "      <td>3158.500000</td>\n",
              "      <td>3140.969352</td>\n",
              "    </tr>\n",
              "    <tr>\n",
              "      <th>26</th>\n",
              "      <td>2491.399902</td>\n",
              "      <td>2504.069026</td>\n",
              "    </tr>\n",
              "    <tr>\n",
              "      <th>27</th>\n",
              "      <td>2928.250000</td>\n",
              "      <td>2922.771234</td>\n",
              "    </tr>\n",
              "    <tr>\n",
              "      <th>28</th>\n",
              "      <td>2671.149902</td>\n",
              "      <td>2660.379730</td>\n",
              "    </tr>\n",
              "    <tr>\n",
              "      <th>29</th>\n",
              "      <td>2909.300049</td>\n",
              "      <td>2918.848030</td>\n",
              "    </tr>\n",
              "    <tr>\n",
              "      <th>30</th>\n",
              "      <td>3174.850098</td>\n",
              "      <td>3180.598058</td>\n",
              "    </tr>\n",
              "    <tr>\n",
              "      <th>31</th>\n",
              "      <td>2259.500000</td>\n",
              "      <td>2282.279387</td>\n",
              "    </tr>\n",
              "    <tr>\n",
              "      <th>32</th>\n",
              "      <td>3115.250000</td>\n",
              "      <td>3124.166567</td>\n",
              "    </tr>\n",
              "    <tr>\n",
              "      <th>33</th>\n",
              "      <td>2686.800049</td>\n",
              "      <td>2682.260179</td>\n",
              "    </tr>\n",
              "    <tr>\n",
              "      <th>34</th>\n",
              "      <td>3196.550049</td>\n",
              "      <td>3230.674055</td>\n",
              "    </tr>\n",
              "    <tr>\n",
              "      <th>35</th>\n",
              "      <td>2281.399902</td>\n",
              "      <td>2292.768693</td>\n",
              "    </tr>\n",
              "    <tr>\n",
              "      <th>36</th>\n",
              "      <td>2242.649902</td>\n",
              "      <td>2237.274961</td>\n",
              "    </tr>\n",
              "    <tr>\n",
              "      <th>37</th>\n",
              "      <td>3273.850098</td>\n",
              "      <td>3274.968813</td>\n",
              "    </tr>\n",
              "    <tr>\n",
              "      <th>38</th>\n",
              "      <td>2279.899902</td>\n",
              "      <td>2296.690435</td>\n",
              "    </tr>\n",
              "    <tr>\n",
              "      <th>39</th>\n",
              "      <td>3238.899902</td>\n",
              "      <td>3225.757546</td>\n",
              "    </tr>\n",
              "    <tr>\n",
              "      <th>40</th>\n",
              "      <td>3214.550049</td>\n",
              "      <td>3209.126581</td>\n",
              "    </tr>\n",
              "    <tr>\n",
              "      <th>41</th>\n",
              "      <td>3301.199951</td>\n",
              "      <td>3305.432613</td>\n",
              "    </tr>\n",
              "    <tr>\n",
              "      <th>42</th>\n",
              "      <td>2929.399902</td>\n",
              "      <td>2932.060810</td>\n",
              "    </tr>\n",
              "    <tr>\n",
              "      <th>43</th>\n",
              "      <td>3006.949951</td>\n",
              "      <td>3011.862750</td>\n",
              "    </tr>\n",
              "    <tr>\n",
              "      <th>44</th>\n",
              "      <td>2726.600098</td>\n",
              "      <td>2712.410575</td>\n",
              "    </tr>\n",
              "    <tr>\n",
              "      <th>45</th>\n",
              "      <td>3246.550049</td>\n",
              "      <td>3257.763625</td>\n",
              "    </tr>\n",
              "    <tr>\n",
              "      <th>46</th>\n",
              "      <td>3262.300049</td>\n",
              "      <td>3282.837382</td>\n",
              "    </tr>\n",
              "    <tr>\n",
              "      <th>47</th>\n",
              "      <td>3111.350098</td>\n",
              "      <td>3136.825173</td>\n",
              "    </tr>\n",
              "    <tr>\n",
              "      <th>48</th>\n",
              "      <td>2707.449951</td>\n",
              "      <td>2693.296522</td>\n",
              "    </tr>\n",
              "    <tr>\n",
              "      <th>49</th>\n",
              "      <td>3297.300049</td>\n",
              "      <td>3301.291139</td>\n",
              "    </tr>\n",
              "  </tbody>\n",
              "</table>\n",
              "</div>"
            ],
            "text/plain": [
              "         Actual    Predicted\n",
              "0   3212.850098  3219.287520\n",
              "1   3064.850098  3081.081777\n",
              "2   2649.600098  2665.406677\n",
              "3   2894.300049  2910.965291\n",
              "4   3071.850098  3048.464397\n",
              "5   2685.699951  2688.343167\n",
              "6   2422.300049  2407.846473\n",
              "7   3057.949951  3081.609615\n",
              "8   3216.800049  3205.394448\n",
              "9   3141.250000  3129.170622\n",
              "10  2784.300049  2796.008719\n",
              "11  3088.800049  3100.123499\n",
              "12  2660.250000  2648.975649\n",
              "13  3317.350098  3314.787161\n",
              "14  3110.050049  3119.227778\n",
              "15  3082.000000  3095.609264\n",
              "16  2830.000000  2830.908612\n",
              "17  3120.899902  3094.316678\n",
              "18  3380.800049  3373.160228\n",
              "19  2727.550049  2720.734564\n",
              "20  3060.000000  3069.858647\n",
              "21  3157.949951  3153.623837\n",
              "22  3112.949951  3126.772765\n",
              "23  2726.800049  2683.709785\n",
              "24  2332.250000  2345.286976\n",
              "25  3158.500000  3140.969352\n",
              "26  2491.399902  2504.069026\n",
              "27  2928.250000  2922.771234\n",
              "28  2671.149902  2660.379730\n",
              "29  2909.300049  2918.848030\n",
              "30  3174.850098  3180.598058\n",
              "31  2259.500000  2282.279387\n",
              "32  3115.250000  3124.166567\n",
              "33  2686.800049  2682.260179\n",
              "34  3196.550049  3230.674055\n",
              "35  2281.399902  2292.768693\n",
              "36  2242.649902  2237.274961\n",
              "37  3273.850098  3274.968813\n",
              "38  2279.899902  2296.690435\n",
              "39  3238.899902  3225.757546\n",
              "40  3214.550049  3209.126581\n",
              "41  3301.199951  3305.432613\n",
              "42  2929.399902  2932.060810\n",
              "43  3006.949951  3011.862750\n",
              "44  2726.600098  2712.410575\n",
              "45  3246.550049  3257.763625\n",
              "46  3262.300049  3282.837382\n",
              "47  3111.350098  3136.825173\n",
              "48  2707.449951  2693.296522\n",
              "49  3297.300049  3301.291139"
            ]
          },
          "metadata": {
            "tags": []
          },
          "execution_count": 23
        }
      ]
    },
    {
      "cell_type": "code",
      "metadata": {
        "id": "d0l0oRYRMspd"
      },
      "source": [
        "graph=dframe.head(10)"
      ],
      "execution_count": 24,
      "outputs": []
    },
    {
      "cell_type": "code",
      "metadata": {
        "colab": {
          "base_uri": "https://localhost:8080/",
          "height": 279
        },
        "id": "6_EWCPXuNFgY",
        "outputId": "d9ac5e16-cb54-42cc-aa3e-5a17b03f544d"
      },
      "source": [
        "graph.plot(kind=\"bar\")"
      ],
      "execution_count": 25,
      "outputs": [
        {
          "output_type": "execute_result",
          "data": {
            "text/plain": [
              "<matplotlib.axes._subplots.AxesSubplot at 0x7f08ca876690>"
            ]
          },
          "metadata": {
            "tags": []
          },
          "execution_count": 25
        },
        {
          "output_type": "display_data",
          "data": {
            "image/png": "[encoded data removed]",
            "text/plain": [
              "<Figure size 432x288 with 1 Axes>"
            ]
          },
          "metadata": {
            "tags": [],
            "needs_background": "light"
          }
        }
      ]
    },
    {
      "cell_type": "code",
      "metadata": {
        "colab": {
          "base_uri": "https://localhost:8080/",
          "height": 282
        },
        "id": "EkQv6lPrNIDQ",
        "outputId": "a79c7dd7-7814-4562-fc2c-f36a7190db2e"
      },
      "source": [
        "graph.plot(kind=\"line\")"
      ],
      "execution_count": 27,
      "outputs": [
        {
          "output_type": "execute_result",
          "data": {
            "text/plain": [
              "<matplotlib.axes._subplots.AxesSubplot at 0x7f08ca73ba90>"
            ]
          },
          "metadata": {
            "tags": []
          },
          "execution_count": 27
        },
        {
          "output_type": "display_data",
          "data": {
            "image/png": "[encoded data removed]",
            "text/plain": [
              "<Figure size 432x288 with 1 Axes>"
            ]
          },
          "metadata": {
            "tags": [],
            "needs_background": "light"
          }
        }
      ]
    },
    {
      "cell_type": "code",
      "metadata": {
        "id": "2EozTwiENZ1O"
      },
      "source": [
        ""
      ],
      "execution_count": null,
      "outputs": []
    }
  ]
}